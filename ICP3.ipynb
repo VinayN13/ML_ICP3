{
 "cells": [
  {
   "cell_type": "code",
   "execution_count": 4,
   "metadata": {},
   "outputs": [
    {
     "name": "stdout",
     "output_type": "stream",
     "text": [
      "Random Vector: [12 17  1  9  4 12 11 15  8 13 10  4  6 12 15]\n",
      "\n",
      "Reshaped array:\n",
      " [[12 17  1  9  4]\n",
      " [12 11 15  8 13]\n",
      " [10  4  6 12 15]]\n",
      "\n",
      "Reshaped array shape: (3, 5)\n",
      "\n",
      "Replacing max element in each row:\n",
      " [[12  0  1  9  4]\n",
      " [12 11  0  8 13]\n",
      " [10  4  6 12  0]]\n"
     ]
    }
   ],
   "source": [
    "import numpy as np\n",
    "\n",
    "\n",
    "vector = np.random.randint(1, 21, size=15)\n",
    "\n",
    "\n",
    "print('Random Vector:',vector)\n",
    "reshaped_array = vector.reshape(3, 5)\n",
    "print('\\nReshaped array:\\n', reshaped_array)\n",
    "print('\\nReshaped array shape:',reshaped_array.shape)\n",
    "reshaped_array[np.arange(reshaped_array.shape[0]), reshaped_array.argmax(axis=1)] = 0\n",
    "print('\\nReplacing max element in each row:\\n',reshaped_array)\n"
   ]
  },
  {
   "cell_type": "code",
   "execution_count": 5,
   "metadata": {},
   "outputs": [
    {
     "name": "stdout",
     "output_type": "stream",
     "text": [
      "Array:\n",
      " [[0 0 0]\n",
      " [0 0 0]\n",
      " [0 0 0]\n",
      " [0 0 0]]\n",
      "\n",
      "Shape: (4, 3)\n",
      "\n",
      "Type: <class 'numpy.ndarray'>\n",
      "\n",
      "Data type: int32\n"
     ]
    }
   ],
   "source": [
    "import numpy as np\n",
    "\n",
    "# 2 dimensional array of size 4x3 with 4-byte integer elements\n",
    "array_2d = np.zeros((4, 3), dtype=np.int32)\n",
    "\n",
    "# shape, type, and data type of the array\n",
    "array_shape = array_2d.shape\n",
    "array_type = type(array_2d)\n",
    "array_dtype = array_2d.dtype\n",
    "\n",
    "# Print the results\n",
    "print(\"Array:\\n\", array_2d)\n",
    "print(\"\\nShape:\", array_shape)\n",
    "print(\"\\nType:\", array_type)\n",
    "print(\"\\nData type:\", array_dtype)\n"
   ]
  },
  {
   "cell_type": "code",
   "execution_count": 6,
   "metadata": {},
   "outputs": [
    {
     "name": "stdout",
     "output_type": "stream",
     "text": [
      "Eigenvalues: [2. 1.]\n",
      "\n",
      "Right eigenvectors:\n",
      " [[0.89442719 0.70710678]\n",
      " [0.4472136  0.70710678]]\n"
     ]
    }
   ],
   "source": [
    "import numpy as np\n",
    "# defining the square array\n",
    "arr = np.array([[3, -2], [1, 0]])\n",
    "\n",
    "# compute the eigenvalues and right eigenvectors\n",
    "eigenvalues, eigenvectors = np.linalg.eig(arr)\n",
    "\n",
    "# print the eigenvalues and right eigenvectors\n",
    "print(\"Eigenvalues:\", eigenvalues)\n",
    "print(\"\\nRight eigenvectors:\\n\",eigenvectors)"
   ]
  },
  {
   "cell_type": "code",
   "execution_count": 7,
   "metadata": {},
   "outputs": [
    {
     "name": "stdout",
     "output_type": "stream",
     "text": [
      "Sum of diagonal elements is: 4\n"
     ]
    }
   ],
   "source": [
    "import numpy as np\n",
    "\n",
    "arr = np.array([[0, 1, 2], [3, 4, 5]])\n",
    "sum = np.trace(arr)\n",
    "print(\"Sum of diagonal elements is:\", sum)"
   ]
  },
  {
   "cell_type": "code",
   "execution_count": 8,
   "metadata": {},
   "outputs": [
    {
     "name": "stdout",
     "output_type": "stream",
     "text": [
      "Original array:\n",
      " [[1 2]\n",
      " [3 4]\n",
      " [5 6]]\n",
      "Modified array:\n",
      " [[1 2 3]\n",
      " [4 5 6]]\n"
     ]
    }
   ],
   "source": [
    "import numpy as np\n",
    "\n",
    "# original array\n",
    "arr = np.array([[1, 2], [3, 4], [5, 6]])\n",
    "\n",
    "# reshape to 3x2\n",
    "arr_3x2 = arr.reshape(3, 2)\n",
    "\n",
    "# reshape to 2x3\n",
    "arr_2x3 = arr.reshape(2, 3)\n",
    "\n",
    "print(\"Original array:\\n\", arr_3x2)\n",
    "print(\"Modified array:\\n\", arr_2x3)"
   ]
  }
 ],
 "metadata": {
  "kernelspec": {
   "display_name": "Python 3",
   "language": "python",
   "name": "python3"
  },
  "language_info": {
   "codemirror_mode": {
    "name": "ipython",
    "version": 3
   },
   "file_extension": ".py",
   "mimetype": "text/x-python",
   "name": "python",
   "nbconvert_exporter": "python",
   "pygments_lexer": "ipython3",
   "version": "3.11.5"
  }
 },
 "nbformat": 4,
 "nbformat_minor": 2
}
